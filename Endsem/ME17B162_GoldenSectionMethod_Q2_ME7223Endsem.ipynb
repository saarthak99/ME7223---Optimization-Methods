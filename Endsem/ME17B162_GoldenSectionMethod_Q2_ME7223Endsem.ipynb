{
 "cells": [
  {
   "cell_type": "markdown",
   "metadata": {},
   "source": [
    "# Question 2 | ME7223 - End Semester Exam\n",
    "## Golden Section Method\n",
    "### Saarthak Marathe | ME17B162"
   ]
  },
  {
   "cell_type": "code",
   "execution_count": 23,
   "metadata": {},
   "outputs": [],
   "source": [
    "import numpy as np \n",
    "import matplotlib.pyplot as plt\n",
    "import math\n",
    "from sympy.solvers import solve\n",
    "from sympy import *"
   ]
  },
  {
   "cell_type": "code",
   "execution_count": 24,
   "metadata": {},
   "outputs": [],
   "source": [
    "#roll no is ME17B162\n",
    "a = 162/17\n",
    "b = 6\n",
    "c = 9\n",
    "d = 5\n",
    "e = 1"
   ]
  },
  {
   "cell_type": "code",
   "execution_count": 25,
   "metadata": {},
   "outputs": [],
   "source": [
    "def f(x):\n",
    "    return c+x**3-b*x-d*math.exp(x)"
   ]
  },
  {
   "cell_type": "code",
   "execution_count": 31,
   "metadata": {},
   "outputs": [],
   "source": [
    "acc = 0.01 #required accuracy\n",
    "gamma = 1.618 #gamma value\n",
    "\n",
    "#no of experiment iteration calculations\n",
    "'''\n",
    "(1/2)*(0.618)^(n-1)<=accuracy. Then we take the ceiling value of this n (smallest integer greater than n)\n",
    "'''\n",
    "n = math.ceil(math.log(2*acc)/math.log(0.618) + 1)   \n",
    "N_exp = n\n",
    "\n",
    "#initial length of the interval given (-2,2). Thus interval is of length 4\n",
    "l = 4\n",
    "\n",
    "#calculating L_2* value\n",
    "L_amp = l/(gamma**2)\n",
    "\n",
    "x_lb = -2\n",
    "x_ub = 2\n",
    "x_1 = x_lb + L_amp\n",
    "x_2 = x_ub - L_amp\n",
    "\n",
    "#loop for calculation of interval values (max iterations = N_exp)\n",
    "for i in range(1,N_exp):\n",
    "    if f(x_1) < f(x_2):      #unimodal function conditions to change the lower bound\n",
    "        x_lb = x_1\n",
    "    elif f(x_1) > f(x_2):    #unimodal function conditions to change the upper bound\n",
    "        x_ub = x_2\n",
    "    else:\n",
    "        break\n",
    "    l = x_ub - x_lb\n",
    "    x_1 = x_lb + l/(gamma**2) #redefining x1, x2 values for closing down on the interval\n",
    "    x_2 = x_ub - l/(gamma**2)\n",
    "\n",
    "#final values of the interval bounds and optimum point\n",
    "lb_final = x_lb\n",
    "ub_final = x_ub\n",
    "optimum_point = (x_lb + x_ub)/2\n"
   ]
  },
  {
   "cell_type": "code",
   "execution_count": 32,
   "metadata": {},
   "outputs": [
    {
     "name": "stdout",
     "output_type": "stream",
     "text": [
      "No of experiments: 10\n",
      "The optimum region calculated: [ -1.5542139077682984 , -1.5016037340195263 ]\n",
      "The optimum point is: -1.5279088208939124\n"
     ]
    }
   ],
   "source": [
    "print('No of experiments:', N_exp)\n",
    "print('The optimum region calculated: [', lb_final, ',', ub_final, ']')\n",
    "print('The optimum point is:', optimum_point)"
   ]
  }
 ],
 "metadata": {
  "kernelspec": {
   "display_name": "Python 3",
   "language": "python",
   "name": "python3"
  },
  "language_info": {
   "codemirror_mode": {
    "name": "ipython",
    "version": 3
   },
   "file_extension": ".py",
   "mimetype": "text/x-python",
   "name": "python",
   "nbconvert_exporter": "python",
   "pygments_lexer": "ipython3",
   "version": "3.8.2"
  }
 },
 "nbformat": 4,
 "nbformat_minor": 4
}
